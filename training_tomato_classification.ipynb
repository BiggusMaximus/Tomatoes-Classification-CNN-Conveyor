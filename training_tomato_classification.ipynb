{
  "cells": [
    {
      "cell_type": "code",
      "execution_count": 5,
      "metadata": {
        "colab": {
          "base_uri": "https://localhost:8080/"
        },
        "id": "dVOUfUdz7dkl",
        "outputId": "a6f470fe-5ff3-4bc2-88c3-a46c999ae2fb"
      },
      "outputs": [
        {
          "name": "stdout",
          "output_type": "stream",
          "text": [
            "GPU Available:  [PhysicalDevice(name='/physical_device:GPU:0', device_type='GPU')]\n"
          ]
        }
      ],
      "source": [
        "import tensorflow as tf\n",
        "print(\"GPU Available: \", tf.config.list_physical_devices('GPU'))"
      ]
    },
    {
      "cell_type": "markdown",
      "metadata": {
        "id": "e0J3fgxd_I0V"
      },
      "source": [
        "###Setup Dataset"
      ]
    },
    {
      "cell_type": "code",
      "execution_count": 6,
      "metadata": {
        "colab": {
          "base_uri": "https://localhost:8080/"
        },
        "id": "q4jpV4g0AhGs",
        "outputId": "9a5429b1-a79d-427f-cd83-6896bb451239"
      },
      "outputs": [],
      "source": [
        "import os\n",
        "\n",
        "\n",
        "training_dir = \"F:\\Program\\All\\Tomatoes-Classification-CNN-Conveyor\\Dataset\\Train\"\n",
        "validation_dir = \"F:\\Program\\All\\Tomatoes-Classification-CNN-Conveyor\\Dataset\\Validation\""
      ]
    },
    {
      "cell_type": "code",
      "execution_count": 7,
      "metadata": {
        "colab": {
          "base_uri": "https://localhost:8080/"
        },
        "id": "I4_bD4_dAlc4",
        "outputId": "aa834991-89a4-4171-f10d-c78d297e549c"
      },
      "outputs": [],
      "source": [
        "# train_damaged = os.path.join(training_dir, 'damaged/')\n",
        "# train_old = os.path.join(training_dir, 'old/')\n",
        "# train_ripe = os.path.join(training_dir, 'ripe/')\n",
        "# train_unripe = os.path.join(training_dir, 'unripe/')\n",
        "# print(\"Count init train tomato\")\n",
        "# print(\"count of image damaged : \", len(os.listdir(train_damaged)))\n",
        "# print(\"count of image old : \", len(os.listdir(train_old)))\n",
        "# print(\"count of image ripe : \", len(os.listdir(train_ripe)))\n",
        "# print(\"count of image unripe : \", len(os.listdir(train_unripe)))\n",
        "\n",
        "# print(\"\\n\")\n",
        "\n",
        "# validation_damaged = os.path.join(validation_dir, 'damaged/')\n",
        "# validation_old = os.path.join(validation_dir, 'old/')\n",
        "# validation_ripe = os.path.join(validation_dir, 'ripe/')\n",
        "# validation_unripe = os.path.join(validation_dir, 'unripe/')\n",
        "# print(\"Count init validation tomato\")\n",
        "# print(\"count of image damaged : \", len(os.listdir(validation_damaged)))\n",
        "# print(\"count of image old : \", len(os.listdir(validation_old)))\n",
        "# print(\"count of image ripe : \", len(os.listdir(validation_ripe)))\n",
        "# print(\"count of image unripe : \", len(os.listdir(validation_unripe)))"
      ]
    },
    {
      "cell_type": "markdown",
      "metadata": {
        "id": "h5avD0iWC2Q1"
      },
      "source": [
        "###Pre Processing"
      ]
    },
    {
      "cell_type": "code",
      "execution_count": 8,
      "metadata": {
        "id": "31ya-33MC6D9"
      },
      "outputs": [],
      "source": [
        "import tensorflow as tf\n",
        "from tensorflow.keras.optimizers import Adam\n",
        "from tensorflow.keras.preprocessing.image import ImageDataGenerator\n",
        "from tensorflow.keras import regularizers"
      ]
    },
    {
      "cell_type": "code",
      "execution_count": 9,
      "metadata": {
        "id": "PlLpser0C94H"
      },
      "outputs": [],
      "source": [
        "train_datagen = ImageDataGenerator(\n",
        "    rescale=1./255,\n",
        "    rotation_range=20,\n",
        "    horizontal_flip=False,\n",
        "    shear_range=0.2,\n",
        "    fill_mode='nearest',\n",
        "    width_shift_range=0.2,\n",
        "    height_shift_range=0.2,\n",
        "    zoom_range=0.1\n",
        ")\n",
        "\n",
        "valid_datagen = ImageDataGenerator(\n",
        "    rescale=1./255,\n",
        "    rotation_range=20,\n",
        "    horizontal_flip=False,\n",
        "    shear_range=0.2,\n",
        "    fill_mode='nearest',\n",
        "    width_shift_range=0.2,\n",
        "    height_shift_range=0.2,\n",
        "    zoom_range=0.1\n",
        ")"
      ]
    },
    {
      "cell_type": "code",
      "execution_count": 10,
      "metadata": {
        "colab": {
          "base_uri": "https://localhost:8080/"
        },
        "id": "dnVaawzrDcPu",
        "outputId": "0f276c9c-3061-4862-cf69-d89b463016cb"
      },
      "outputs": [
        {
          "name": "stdout",
          "output_type": "stream",
          "text": [
            "Found 1927 images belonging to 4 classes.\n"
          ]
        },
        {
          "name": "stdout",
          "output_type": "stream",
          "text": [
            "Found 168 images belonging to 4 classes.\n"
          ]
        }
      ],
      "source": [
        "train_generator = train_datagen.flow_from_directory(\n",
        "    training_dir,\n",
        "    batch_size = 32,\n",
        "    target_size=(256,256),\n",
        "    class_mode=\"categorical\",\n",
        "    seed=46\n",
        ")\n",
        "\n",
        "validation_generator = valid_datagen.flow_from_directory(\n",
        "    validation_dir,\n",
        "    batch_size = 32,\n",
        "    target_size=(256,256),\n",
        "    class_mode=\"categorical\",\n",
        "    seed=46\n",
        ")"
      ]
    },
    {
      "cell_type": "code",
      "execution_count": 11,
      "metadata": {
        "colab": {
          "base_uri": "https://localhost:8080/"
        },
        "id": "CNFEnc5-OeOb",
        "outputId": "5667c288-33a8-48a4-e5d2-2b3ac7b2dbe5"
      },
      "outputs": [
        {
          "name": "stdout",
          "output_type": "stream",
          "text": [
            "{'busuk': 0, 'matang': 1, 'mentah': 2, 'setengah matang': 3}\n"
          ]
        }
      ],
      "source": [
        "label_map=(train_generator.class_indices)\n",
        "print(label_map)"
      ]
    },
    {
      "cell_type": "code",
      "execution_count": 12,
      "metadata": {
        "id": "ZqyyEayjDihj"
      },
      "outputs": [],
      "source": [
        "# optional untuk batas jika 99% stop pelatihan\n",
        "class myCallback(tf.keras.callbacks.Callback):\n",
        "  def on_epoch_end(self, epoch, logs = {}):\n",
        "    if(logs.get('accuracy') > 0.99):\n",
        "      print('\\nAkurasi mencapai 99%')\n",
        "      self.model.stop_training = True\n",
        "\n",
        "callbacks = myCallback()"
      ]
    },
    {
      "cell_type": "code",
      "execution_count": 13,
      "metadata": {
        "id": "s7_4ioY7DmeZ"
      },
      "outputs": [],
      "source": [
        "model = tf.keras.models.Sequential([\n",
        "    #first layer\n",
        "    tf.keras.layers.Conv2D(16, (3,3), activation='relu', padding='same', kernel_initializer='he_normal', input_shape=(256, 256, 3)),\n",
        "    tf.keras.layers.MaxPooling2D(2, 2),\n",
        "    #second layer\n",
        "    tf.keras.layers.Conv2D(32, (3,3), activation='relu', padding='same', kernel_initializer='he_normal'), tf.keras.layers.MaxPooling2D(2,2),\n",
        "    #third layer\n",
        "    tf.keras.layers.Conv2D(64, (3,3), activation='relu', padding='same', kernel_initializer='he_normal'), tf.keras.layers.MaxPooling2D(2,2),\n",
        "    tf.keras.layers.Conv2D(64, (3,3), activation='relu', padding='same', kernel_initializer='he_normal'), tf.keras.layers.MaxPooling2D(2,2),\n",
        "    tf.keras.layers.Conv2D(64, (3,3), activation='relu', padding='same', kernel_initializer='he_normal'), tf.keras.layers.MaxPooling2D(2,2),\n",
        "    #flatten dropout\n",
        "    tf.keras.layers.Flatten(),\n",
        "    tf.keras.layers.Dropout(0.3),\n",
        "    #fully connected layers\n",
        "    tf.keras.layers.Dense(128, activity_regularizer=regularizers.l2(0.001), activation='relu'),\n",
        "    tf.keras.layers.Dropout(0.6),\n",
        "    tf.keras.layers.Dense(4, activation='softmax')\n",
        "])"
      ]
    },
    {
      "cell_type": "code",
      "execution_count": 14,
      "metadata": {
        "colab": {
          "base_uri": "https://localhost:8080/"
        },
        "id": "6k0oe7GjDpoZ",
        "outputId": "42ef6f08-8098-414d-9f95-823ccf419c9d"
      },
      "outputs": [
        {
          "name": "stdout",
          "output_type": "stream",
          "text": [
            "Model: \"sequential\"\n",
            "_________________________________________________________________\n",
            " Layer (type)                Output Shape              Param #   \n",
            "=================================================================\n",
            " conv2d (Conv2D)             (None, 256, 256, 16)      448       \n",
            "                                                                 \n",
            " max_pooling2d (MaxPooling2D  (None, 128, 128, 16)     0         \n",
            " )                                                               \n",
            "                                                                 \n",
            " conv2d_1 (Conv2D)           (None, 128, 128, 32)      4640      \n",
            "                                                                 \n",
            " max_pooling2d_1 (MaxPooling  (None, 64, 64, 32)       0         \n",
            " 2D)                                                             \n",
            "                                                                 \n",
            " conv2d_2 (Conv2D)           (None, 64, 64, 64)        18496     \n",
            "                                                                 \n",
            " max_pooling2d_2 (MaxPooling  (None, 32, 32, 64)       0         \n",
            " 2D)                                                             \n",
            "                                                                 \n",
            " conv2d_3 (Conv2D)           (None, 32, 32, 64)        36928     \n",
            "                                                                 \n",
            " max_pooling2d_3 (MaxPooling  (None, 16, 16, 64)       0         \n",
            " 2D)                                                             \n",
            "                                                                 \n",
            " conv2d_4 (Conv2D)           (None, 16, 16, 64)        36928     \n",
            "                                                                 \n",
            " max_pooling2d_4 (MaxPooling  (None, 8, 8, 64)         0         \n",
            " 2D)                                                             \n",
            "                                                                 \n",
            " flatten (Flatten)           (None, 4096)              0         \n",
            "                                                                 \n",
            " dropout (Dropout)           (None, 4096)              0         \n",
            "                                                                 \n",
            " dense (Dense)               (None, 128)               524416    \n",
            "                                                                 \n",
            " dropout_1 (Dropout)         (None, 128)               0         \n",
            "                                                                 \n",
            " dense_1 (Dense)             (None, 4)                 516       \n",
            "                                                                 \n",
            "=================================================================\n",
            "Total params: 622,372\n",
            "Trainable params: 622,372\n",
            "Non-trainable params: 0\n",
            "_________________________________________________________________\n"
          ]
        }
      ],
      "source": [
        "model.summary()"
      ]
    },
    {
      "cell_type": "markdown",
      "metadata": {
        "id": "npJvC3F5DryF"
      },
      "source": [
        "###Core Convolutional Neural Network (CNN) Training"
      ]
    },
    {
      "cell_type": "code",
      "execution_count": 15,
      "metadata": {
        "id": "UGO3W99qD01J"
      },
      "outputs": [],
      "source": [
        "adam = Adam(learning_rate=0.001)\n",
        "\n",
        "model.compile(\n",
        "    loss='categorical_crossentropy',\n",
        "    optimizer=adam,\n",
        "    metrics=['accuracy']\n",
        ")"
      ]
    },
    {
      "cell_type": "code",
      "execution_count": 16,
      "metadata": {
        "colab": {
          "base_uri": "https://localhost:8080/"
        },
        "id": "tYZ5pk6yEPDk",
        "outputId": "5788df8e-95ac-460e-945d-c532cf83f92f"
      },
      "outputs": [
        {
          "name": "stdout",
          "output_type": "stream",
          "text": [
            "Epoch 1/100\n",
            "61/61 [==============================] - 28s 328ms/step - loss: 0.9604 - accuracy: 0.6092 - val_loss: 0.4698 - val_accuracy: 0.8810\n",
            "Epoch 2/100\n",
            "61/61 [==============================] - 20s 331ms/step - loss: 0.4156 - accuracy: 0.8941 - val_loss: 0.2390 - val_accuracy: 0.9464\n",
            "Epoch 3/100\n",
            "61/61 [==============================] - 21s 336ms/step - loss: 0.2726 - accuracy: 0.9486 - val_loss: 0.4611 - val_accuracy: 0.8214\n",
            "Epoch 4/100\n",
            "61/61 [==============================] - 21s 339ms/step - loss: 0.2254 - accuracy: 0.9616 - val_loss: 0.1499 - val_accuracy: 0.9821\n",
            "Epoch 5/100\n",
            "61/61 [==============================] - 21s 339ms/step - loss: 0.1505 - accuracy: 0.9850 - val_loss: 0.0975 - val_accuracy: 1.0000\n",
            "Epoch 6/100\n",
            "61/61 [==============================] - 21s 339ms/step - loss: 0.1309 - accuracy: 0.9891 - val_loss: 0.0831 - val_accuracy: 0.9940\n",
            "Epoch 7/100\n",
            "61/61 [==============================] - 26s 430ms/step - loss: 0.1063 - accuracy: 0.9933 - val_loss: 0.0715 - val_accuracy: 0.9940\n",
            "Epoch 8/100\n",
            "61/61 [==============================] - 25s 406ms/step - loss: 0.0929 - accuracy: 0.9927 - val_loss: 0.0632 - val_accuracy: 1.0000\n",
            "Epoch 9/100\n",
            "61/61 [==============================] - 22s 358ms/step - loss: 0.1081 - accuracy: 0.9855 - val_loss: 0.0933 - val_accuracy: 0.9881\n",
            "Epoch 10/100\n",
            "61/61 [==============================] - 22s 360ms/step - loss: 0.0792 - accuracy: 0.9933 - val_loss: 0.0510 - val_accuracy: 1.0000\n",
            "Epoch 11/100\n",
            "61/61 [==============================] - 22s 367ms/step - loss: 0.0648 - accuracy: 0.9984 - val_loss: 0.0454 - val_accuracy: 1.0000\n",
            "Epoch 12/100\n",
            "61/61 [==============================] - 22s 356ms/step - loss: 0.0605 - accuracy: 0.9964 - val_loss: 0.0386 - val_accuracy: 1.0000\n",
            "Epoch 13/100\n",
            "61/61 [==============================] - 23s 375ms/step - loss: 0.0530 - accuracy: 0.9995 - val_loss: 0.0335 - val_accuracy: 1.0000\n",
            "Epoch 14/100\n",
            "61/61 [==============================] - 21s 337ms/step - loss: 0.0467 - accuracy: 1.0000 - val_loss: 0.0349 - val_accuracy: 1.0000\n",
            "Epoch 15/100\n",
            "61/61 [==============================] - 20s 327ms/step - loss: 0.0487 - accuracy: 0.9995 - val_loss: 0.0368 - val_accuracy: 1.0000\n",
            "Epoch 16/100\n",
            "61/61 [==============================] - 20s 322ms/step - loss: 0.0413 - accuracy: 1.0000 - val_loss: 0.0288 - val_accuracy: 1.0000\n",
            "Epoch 17/100\n",
            "61/61 [==============================] - 21s 338ms/step - loss: 0.0405 - accuracy: 1.0000 - val_loss: 0.0268 - val_accuracy: 1.0000\n",
            "Epoch 18/100\n",
            "61/61 [==============================] - 19s 315ms/step - loss: 0.0393 - accuracy: 1.0000 - val_loss: 0.0318 - val_accuracy: 1.0000\n",
            "Epoch 19/100\n",
            "61/61 [==============================] - 19s 309ms/step - loss: 0.0353 - accuracy: 1.0000 - val_loss: 0.0261 - val_accuracy: 1.0000\n",
            "Epoch 20/100\n",
            "61/61 [==============================] - 19s 309ms/step - loss: 0.0513 - accuracy: 0.9948 - val_loss: 0.0931 - val_accuracy: 0.9702\n",
            "Epoch 21/100\n",
            "61/61 [==============================] - 19s 316ms/step - loss: 0.0874 - accuracy: 0.9891 - val_loss: 0.0488 - val_accuracy: 0.9940\n",
            "Epoch 22/100\n",
            "61/61 [==============================] - 19s 312ms/step - loss: 0.0675 - accuracy: 0.9927 - val_loss: 0.0317 - val_accuracy: 1.0000\n",
            "Epoch 23/100\n",
            "61/61 [==============================] - 19s 316ms/step - loss: 0.0430 - accuracy: 0.9979 - val_loss: 0.0268 - val_accuracy: 1.0000\n",
            "Epoch 24/100\n",
            "61/61 [==============================] - 19s 314ms/step - loss: 0.0372 - accuracy: 0.9990 - val_loss: 0.0226 - val_accuracy: 1.0000\n",
            "Epoch 25/100\n",
            "61/61 [==============================] - 19s 315ms/step - loss: 0.0301 - accuracy: 0.9995 - val_loss: 0.0228 - val_accuracy: 1.0000\n",
            "Epoch 26/100\n",
            "61/61 [==============================] - 20s 333ms/step - loss: 0.0297 - accuracy: 0.9995 - val_loss: 0.0218 - val_accuracy: 1.0000\n",
            "Epoch 27/100\n",
            "61/61 [==============================] - 20s 324ms/step - loss: 0.0271 - accuracy: 1.0000 - val_loss: 0.0187 - val_accuracy: 1.0000\n",
            "Epoch 28/100\n",
            "61/61 [==============================] - 19s 308ms/step - loss: 0.0266 - accuracy: 1.0000 - val_loss: 0.0189 - val_accuracy: 1.0000\n",
            "Epoch 29/100\n",
            "61/61 [==============================] - 19s 312ms/step - loss: 0.0266 - accuracy: 1.0000 - val_loss: 0.0273 - val_accuracy: 1.0000\n",
            "Epoch 30/100\n",
            "61/61 [==============================] - 19s 310ms/step - loss: 0.0265 - accuracy: 1.0000 - val_loss: 0.0225 - val_accuracy: 1.0000\n",
            "Epoch 31/100\n",
            "61/61 [==============================] - 19s 310ms/step - loss: 0.0249 - accuracy: 0.9995 - val_loss: 0.0164 - val_accuracy: 1.0000\n",
            "Epoch 32/100\n",
            "61/61 [==============================] - 19s 307ms/step - loss: 0.0237 - accuracy: 0.9995 - val_loss: 0.0172 - val_accuracy: 1.0000\n",
            "Epoch 33/100\n",
            "61/61 [==============================] - 19s 307ms/step - loss: 0.0235 - accuracy: 1.0000 - val_loss: 0.0162 - val_accuracy: 1.0000\n",
            "Epoch 34/100\n",
            "61/61 [==============================] - 19s 305ms/step - loss: 0.0230 - accuracy: 1.0000 - val_loss: 0.0171 - val_accuracy: 1.0000\n",
            "Epoch 35/100\n",
            "61/61 [==============================] - 18s 300ms/step - loss: 0.0217 - accuracy: 1.0000 - val_loss: 0.0172 - val_accuracy: 1.0000\n",
            "Epoch 36/100\n",
            "61/61 [==============================] - 19s 303ms/step - loss: 0.0211 - accuracy: 1.0000 - val_loss: 0.0425 - val_accuracy: 0.9881\n",
            "Epoch 37/100\n",
            "61/61 [==============================] - 19s 303ms/step - loss: 0.0229 - accuracy: 1.0000 - val_loss: 0.0163 - val_accuracy: 1.0000\n",
            "Epoch 38/100\n",
            "61/61 [==============================] - 19s 306ms/step - loss: 0.0214 - accuracy: 1.0000 - val_loss: 0.0147 - val_accuracy: 1.0000\n",
            "Epoch 39/100\n",
            "61/61 [==============================] - 19s 307ms/step - loss: 0.0200 - accuracy: 1.0000 - val_loss: 0.0140 - val_accuracy: 1.0000\n",
            "Epoch 40/100\n",
            "61/61 [==============================] - 19s 307ms/step - loss: 0.0199 - accuracy: 1.0000 - val_loss: 0.0158 - val_accuracy: 1.0000\n",
            "Epoch 41/100\n",
            "61/61 [==============================] - 19s 308ms/step - loss: 0.0240 - accuracy: 0.9995 - val_loss: 0.0143 - val_accuracy: 1.0000\n",
            "Epoch 42/100\n",
            "61/61 [==============================] - 19s 307ms/step - loss: 0.0203 - accuracy: 1.0000 - val_loss: 0.0142 - val_accuracy: 1.0000\n",
            "Epoch 43/100\n",
            "61/61 [==============================] - 19s 309ms/step - loss: 0.0180 - accuracy: 1.0000 - val_loss: 0.0122 - val_accuracy: 1.0000\n",
            "Epoch 44/100\n",
            "61/61 [==============================] - 21s 337ms/step - loss: 0.0208 - accuracy: 0.9984 - val_loss: 0.0341 - val_accuracy: 0.9881\n",
            "Epoch 45/100\n",
            "61/61 [==============================] - 19s 310ms/step - loss: 0.0857 - accuracy: 0.9834 - val_loss: 0.0595 - val_accuracy: 0.9940\n",
            "Epoch 46/100\n",
            "61/61 [==============================] - 19s 315ms/step - loss: 0.1589 - accuracy: 0.9652 - val_loss: 0.0632 - val_accuracy: 0.9821\n",
            "Epoch 47/100\n",
            "61/61 [==============================] - 19s 317ms/step - loss: 0.0420 - accuracy: 0.9953 - val_loss: 0.0247 - val_accuracy: 0.9940\n",
            "Epoch 48/100\n",
            "61/61 [==============================] - 20s 332ms/step - loss: 0.0241 - accuracy: 0.9995 - val_loss: 0.0160 - val_accuracy: 1.0000\n",
            "Epoch 49/100\n",
            "61/61 [==============================] - 19s 315ms/step - loss: 0.0239 - accuracy: 0.9984 - val_loss: 0.0149 - val_accuracy: 1.0000\n",
            "Epoch 50/100\n",
            "61/61 [==============================] - 19s 313ms/step - loss: 0.0201 - accuracy: 1.0000 - val_loss: 0.0131 - val_accuracy: 1.0000\n",
            "Epoch 51/100\n",
            "61/61 [==============================] - 19s 307ms/step - loss: 0.0202 - accuracy: 0.9995 - val_loss: 0.0133 - val_accuracy: 1.0000\n",
            "Epoch 52/100\n",
            "61/61 [==============================] - 19s 311ms/step - loss: 0.0194 - accuracy: 1.0000 - val_loss: 0.0141 - val_accuracy: 1.0000\n",
            "Epoch 53/100\n",
            "61/61 [==============================] - 19s 318ms/step - loss: 0.0183 - accuracy: 0.9995 - val_loss: 0.0119 - val_accuracy: 1.0000\n",
            "Epoch 54/100\n",
            "61/61 [==============================] - 19s 311ms/step - loss: 0.0163 - accuracy: 1.0000 - val_loss: 0.0180 - val_accuracy: 1.0000\n",
            "Epoch 55/100\n",
            "61/61 [==============================] - 20s 332ms/step - loss: 0.0166 - accuracy: 1.0000 - val_loss: 0.0119 - val_accuracy: 1.0000\n",
            "Epoch 56/100\n",
            "61/61 [==============================] - 19s 306ms/step - loss: 0.0177 - accuracy: 1.0000 - val_loss: 0.0107 - val_accuracy: 1.0000\n",
            "Epoch 57/100\n",
            "61/61 [==============================] - 20s 321ms/step - loss: 0.0164 - accuracy: 1.0000 - val_loss: 0.0127 - val_accuracy: 1.0000\n",
            "Epoch 58/100\n",
            "61/61 [==============================] - 20s 331ms/step - loss: 0.0170 - accuracy: 0.9995 - val_loss: 0.0226 - val_accuracy: 0.9940\n",
            "Epoch 59/100\n",
            "61/61 [==============================] - 20s 325ms/step - loss: 0.0197 - accuracy: 0.9990 - val_loss: 0.0479 - val_accuracy: 0.9881\n",
            "Epoch 60/100\n",
            "61/61 [==============================] - 20s 319ms/step - loss: 0.0169 - accuracy: 0.9995 - val_loss: 0.0175 - val_accuracy: 1.0000\n",
            "Epoch 61/100\n",
            "61/61 [==============================] - 20s 334ms/step - loss: 0.0155 - accuracy: 1.0000 - val_loss: 0.0123 - val_accuracy: 1.0000\n",
            "Epoch 62/100\n",
            "61/61 [==============================] - 20s 322ms/step - loss: 0.0138 - accuracy: 1.0000 - val_loss: 0.0107 - val_accuracy: 1.0000\n",
            "Epoch 63/100\n",
            "61/61 [==============================] - 20s 324ms/step - loss: 0.0131 - accuracy: 1.0000 - val_loss: 0.0098 - val_accuracy: 1.0000\n",
            "Epoch 64/100\n",
            "61/61 [==============================] - 20s 327ms/step - loss: 0.0133 - accuracy: 1.0000 - val_loss: 0.0113 - val_accuracy: 1.0000\n",
            "Epoch 65/100\n",
            "61/61 [==============================] - 20s 334ms/step - loss: 0.0131 - accuracy: 1.0000 - val_loss: 0.0110 - val_accuracy: 1.0000\n",
            "Epoch 66/100\n",
            "61/61 [==============================] - 20s 330ms/step - loss: 0.0123 - accuracy: 1.0000 - val_loss: 0.0096 - val_accuracy: 1.0000\n",
            "Epoch 67/100\n",
            "61/61 [==============================] - 19s 315ms/step - loss: 0.0125 - accuracy: 1.0000 - val_loss: 0.0090 - val_accuracy: 1.0000\n",
            "Epoch 68/100\n",
            "61/61 [==============================] - 19s 309ms/step - loss: 0.0125 - accuracy: 1.0000 - val_loss: 0.0108 - val_accuracy: 1.0000\n",
            "Epoch 69/100\n",
            "61/61 [==============================] - 19s 304ms/step - loss: 0.0115 - accuracy: 1.0000 - val_loss: 0.0087 - val_accuracy: 1.0000\n",
            "Epoch 70/100\n",
            "61/61 [==============================] - 19s 302ms/step - loss: 0.0113 - accuracy: 1.0000 - val_loss: 0.0156 - val_accuracy: 0.9940\n",
            "Epoch 71/100\n",
            "61/61 [==============================] - 19s 304ms/step - loss: 0.0120 - accuracy: 1.0000 - val_loss: 0.0081 - val_accuracy: 1.0000\n",
            "Epoch 72/100\n",
            "61/61 [==============================] - 19s 302ms/step - loss: 0.0109 - accuracy: 1.0000 - val_loss: 0.0082 - val_accuracy: 1.0000\n",
            "Epoch 73/100\n",
            "61/61 [==============================] - 19s 305ms/step - loss: 0.0110 - accuracy: 1.0000 - val_loss: 0.0086 - val_accuracy: 1.0000\n",
            "Epoch 74/100\n",
            "61/61 [==============================] - 20s 321ms/step - loss: 0.0102 - accuracy: 1.0000 - val_loss: 0.0084 - val_accuracy: 1.0000\n",
            "Epoch 75/100\n",
            "61/61 [==============================] - 20s 331ms/step - loss: 0.0098 - accuracy: 1.0000 - val_loss: 0.0088 - val_accuracy: 1.0000\n",
            "Epoch 76/100\n",
            "61/61 [==============================] - 21s 342ms/step - loss: 0.0100 - accuracy: 1.0000 - val_loss: 0.0088 - val_accuracy: 1.0000\n",
            "Epoch 77/100\n",
            "61/61 [==============================] - 21s 339ms/step - loss: 0.0098 - accuracy: 1.0000 - val_loss: 0.0075 - val_accuracy: 1.0000\n",
            "Epoch 78/100\n",
            "61/61 [==============================] - 19s 313ms/step - loss: 0.0099 - accuracy: 1.0000 - val_loss: 0.0077 - val_accuracy: 1.0000\n",
            "Epoch 79/100\n",
            "61/61 [==============================] - 19s 313ms/step - loss: 0.0098 - accuracy: 1.0000 - val_loss: 0.0069 - val_accuracy: 1.0000\n",
            "Epoch 80/100\n",
            "61/61 [==============================] - 19s 318ms/step - loss: 0.0097 - accuracy: 1.0000 - val_loss: 0.0072 - val_accuracy: 1.0000\n",
            "Epoch 81/100\n",
            "61/61 [==============================] - 19s 305ms/step - loss: 0.0091 - accuracy: 1.0000 - val_loss: 0.0071 - val_accuracy: 1.0000\n",
            "Epoch 82/100\n",
            "61/61 [==============================] - 19s 303ms/step - loss: 0.0094 - accuracy: 1.0000 - val_loss: 0.0065 - val_accuracy: 1.0000\n",
            "Epoch 83/100\n",
            "61/61 [==============================] - 19s 308ms/step - loss: 0.0092 - accuracy: 1.0000 - val_loss: 0.0076 - val_accuracy: 1.0000\n",
            "Epoch 84/100\n",
            "61/61 [==============================] - 19s 306ms/step - loss: 0.0090 - accuracy: 1.0000 - val_loss: 0.0160 - val_accuracy: 0.9940\n",
            "Epoch 85/100\n",
            "61/61 [==============================] - 19s 307ms/step - loss: 0.0081 - accuracy: 1.0000 - val_loss: 0.0064 - val_accuracy: 1.0000\n",
            "Epoch 86/100\n",
            "61/61 [==============================] - 19s 314ms/step - loss: 0.0083 - accuracy: 1.0000 - val_loss: 0.0078 - val_accuracy: 1.0000\n",
            "Epoch 87/100\n",
            "61/61 [==============================] - 19s 306ms/step - loss: 0.0080 - accuracy: 1.0000 - val_loss: 0.0089 - val_accuracy: 1.0000\n",
            "Epoch 88/100\n",
            "61/61 [==============================] - 19s 305ms/step - loss: 0.0083 - accuracy: 1.0000 - val_loss: 0.0063 - val_accuracy: 1.0000\n",
            "Epoch 89/100\n",
            "61/61 [==============================] - 19s 307ms/step - loss: 0.0081 - accuracy: 1.0000 - val_loss: 0.0063 - val_accuracy: 1.0000\n",
            "Epoch 90/100\n",
            "61/61 [==============================] - 19s 305ms/step - loss: 0.0080 - accuracy: 1.0000 - val_loss: 0.0059 - val_accuracy: 1.0000\n",
            "Epoch 91/100\n",
            "61/61 [==============================] - 19s 302ms/step - loss: 0.0079 - accuracy: 1.0000 - val_loss: 0.0064 - val_accuracy: 1.0000\n",
            "Epoch 92/100\n",
            "61/61 [==============================] - 19s 306ms/step - loss: 0.0075 - accuracy: 1.0000 - val_loss: 0.0097 - val_accuracy: 1.0000\n",
            "Epoch 93/100\n",
            "61/61 [==============================] - 19s 307ms/step - loss: 0.0074 - accuracy: 1.0000 - val_loss: 0.0054 - val_accuracy: 1.0000\n",
            "Epoch 94/100\n",
            "61/61 [==============================] - 19s 313ms/step - loss: 0.0078 - accuracy: 1.0000 - val_loss: 0.0064 - val_accuracy: 1.0000\n",
            "Epoch 95/100\n",
            "61/61 [==============================] - 19s 305ms/step - loss: 0.0320 - accuracy: 0.9917 - val_loss: 0.0187 - val_accuracy: 1.0000\n",
            "Epoch 96/100\n",
            "61/61 [==============================] - 19s 313ms/step - loss: 0.0508 - accuracy: 0.9891 - val_loss: 0.1252 - val_accuracy: 0.9702\n",
            "Epoch 97/100\n",
            "61/61 [==============================] - 21s 345ms/step - loss: 0.0368 - accuracy: 0.9922 - val_loss: 0.0205 - val_accuracy: 0.9940\n",
            "Epoch 98/100\n",
            "61/61 [==============================] - 19s 306ms/step - loss: 0.0195 - accuracy: 0.9995 - val_loss: 0.0174 - val_accuracy: 1.0000\n",
            "Epoch 99/100\n",
            "61/61 [==============================] - 19s 313ms/step - loss: 0.0132 - accuracy: 1.0000 - val_loss: 0.0092 - val_accuracy: 1.0000\n",
            "Epoch 100/100\n",
            "61/61 [==============================] - 19s 309ms/step - loss: 0.0111 - accuracy: 1.0000 - val_loss: 0.0089 - val_accuracy: 1.0000\n"
          ]
        }
      ],
      "source": [
        "history = model.fit(\n",
        "    train_generator,\n",
        "    steps_per_epoch=len(train_generator),\n",
        "    epochs=100,\n",
        "    validation_data=validation_generator,\n",
        "    validation_steps=len(validation_generator)\n",
        ")"
      ]
    },
    {
      "cell_type": "markdown",
      "metadata": {
        "id": "-QnOJWzBO6Rl"
      },
      "source": [
        "###Training Result"
      ]
    },
    {
      "cell_type": "code",
      "execution_count": 17,
      "metadata": {
        "colab": {
          "base_uri": "https://localhost:8080/"
        },
        "id": "-ZgjiXXGhDB1",
        "outputId": "0ab2fbcc-4307-4e50-c055-f7cbf6b1c9e2"
      },
      "outputs": [
        {
          "name": "stdout",
          "output_type": "stream",
          "text": [
            "Found 80 images belonging to 4 classes.\n"
          ]
        }
      ],
      "source": [
        "from sklearn.metrics import classification_report\n",
        "test_generator = ImageDataGenerator(rescale=1./255)\n",
        "test_data_generator=test_generator.flow_from_directory(\n",
        "    # validation_dir,\n",
        "    './Dataset/Test',\n",
        "    target_size = (256,256),\n",
        "    batch_size=30,\n",
        "    shuffle=False\n",
        ")"
      ]
    },
    {
      "cell_type": "code",
      "execution_count": 18,
      "metadata": {
        "colab": {
          "base_uri": "https://localhost:8080/"
        },
        "id": "_Xjpkd1ThF30",
        "outputId": "d92d354e-bcf8-4bf2-8097-d73847da713e"
      },
      "outputs": [
        {
          "name": "stdout",
          "output_type": "stream",
          "text": [
            "{'busuk': 0, 'matang': 1, 'mentah': 2, 'setengah matang': 3}\n"
          ]
        }
      ],
      "source": [
        "label_map=(train_generator.class_indices)\n",
        "print(label_map)"
      ]
    },
    {
      "cell_type": "code",
      "execution_count": 26,
      "metadata": {
        "colab": {
          "base_uri": "https://localhost:8080/",
          "height": 718
        },
        "id": "BsOJ0Q2gg42R",
        "outputId": "44aca421-ff80-4a45-ec6f-3d69e4a11e1f"
      },
      "outputs": [
        {
          "data": {
            "image/png": "[encoded data removed]",
            "text/plain": [
              "<Figure size 800x800 with 2 Axes>"
            ]
          },
          "metadata": {},
          "output_type": "display_data"
        }
      ],
      "source": [
        "import tensorflow as tf\n",
        "tf.keras.models.save_model(model, 'modelcnn_final.keras')\n",
        "\n",
        "import matplotlib.pyplot as plt\n",
        "acc = history.history['accuracy']\n",
        "val_acc = history.history['val_accuracy']\n",
        "\n",
        "loss = history.history['loss']\n",
        "val_loss = history.history['val_loss']\n",
        "\n",
        "plt.figure(figsize=(8, 8))\n",
        "plt.subplot(2, 1, 1)\n",
        "plt.plot(acc, label='training accuracy')\n",
        "plt.plot(val_acc, label='validation accuracy')\n",
        "plt.legend(loc='lower right')\n",
        "plt.ylabel('accuracy')\n",
        "plt.title('training and validation accuracy')\n",
        "\n",
        "plt.subplot(2, 1, 2)\n",
        "plt.plot(loss, label='training loss')\n",
        "plt.plot(val_loss, label='validation loss')\n",
        "plt.legend(loc='upper right')\n",
        "plt.ylabel('cross entropy')\n",
        "plt.title('training and validation loss')\n",
        "plt.xlabel('epoch')\n",
        "plt.show()"
      ]
    },
    {
      "cell_type": "code",
      "execution_count": 56,
      "metadata": {},
      "outputs": [
        {
          "data": {
            "image/png": "[encoded data removed]",
            "text/plain": [
              "<Figure size 1200x500 with 1 Axes>"
            ]
          },
          "metadata": {},
          "output_type": "display_data"
        }
      ],
      "source": [
        "import numpy as np\n",
        "import matplotlib.pyplot as plt\n",
        "from mpl_toolkits.axes_grid1.inset_locator import zoomed_inset_axes\n",
        "from mpl_toolkits.axes_grid1.inset_locator import mark_inset\n",
        "import random\n",
        "from matplotlib.ticker import (MultipleLocator, AutoMinorLocator)\n",
        "\n",
        "fig, ax = plt.subplots(figsize=(12,5))\n",
        "x = np.arange(0, len(acc))\n",
        "hop = 5\n",
        "ax.plot(acc     , color='r', linewidth=0.5)\n",
        "ax.plot(val_acc , color='b', linewidth=0.5)\n",
        "\n",
        "ax.scatter(x[::hop], acc     [::hop], marker='s', color='r', edgecolors='k', label='Training'  )\n",
        "ax.scatter(x[::hop], val_acc [::hop], marker='^', color='y', edgecolors='k', label='Validation')\n",
        "ax.legend(loc='lower right')\n",
        "ax.set_ylabel('Accuracy (%)')\n",
        "\n",
        "ax.yaxis.set_major_locator(MultipleLocator(0.1))\n",
        "ax.yaxis.set_major_formatter('{x:.2f}')\n",
        "ax.yaxis.set_minor_locator(MultipleLocator(0.01))\n",
        "ax.xaxis.set_major_locator(MultipleLocator(10))\n",
        "ax.xaxis.set_major_formatter('{x:.2f}')\n",
        "ax.xaxis.set_minor_locator(MultipleLocator(1))"
      ]
    },
    {
      "cell_type": "code",
      "execution_count": 27,
      "metadata": {
        "colab": {
          "base_uri": "https://localhost:8080/"
        },
        "id": "_hS4XKzDeuko",
        "outputId": "966a60f4-19d4-4eb2-fe79-d2937eb85313"
      },
      "outputs": [
        {
          "name": "stdout",
          "output_type": "stream",
          "text": [
            "6/6 [==============================] - 2s 243ms/step - loss: 0.0096 - accuracy: 1.0000\n"
          ]
        },
        {
          "data": {
            "text/plain": [
              "[0.009577379561960697, 1.0]"
            ]
          },
          "execution_count": 27,
          "metadata": {},
          "output_type": "execute_result"
        }
      ],
      "source": [
        "model.evaluate(validation_generator)"
      ]
    },
    {
      "cell_type": "code",
      "execution_count": 58,
      "metadata": {
        "colab": {
          "base_uri": "https://localhost:8080/",
          "height": 822
        },
        "id": "FBZgjZeXfL5h",
        "outputId": "01401616-df83-4ecc-f20d-bb5751560c9d"
      },
      "outputs": [
        {
          "name": "stdout",
          "output_type": "stream",
          "text": [
            "3/3 [==============================] - 0s 184ms/step\n"
          ]
        },
        {
          "data": {
            "image/png": "[encoded data removed]",
            "text/plain": [
              "<Figure size 800x800 with 2 Axes>"
            ]
          },
          "metadata": {},
          "output_type": "display_data"
        }
      ],
      "source": [
        "import sklearn\n",
        "from sklearn.metrics import confusion_matrix\n",
        "import matplotlib.pyplot as plt\n",
        "import seaborn as sns\n",
        "import numpy as np\n",
        "\n",
        "# Define your custom labels\n",
        "labels = [\"Busuk\", \"Matang\", \"Mentah\", \"Setengah Matang\"]\n",
        "\n",
        "# Generate predictions (assuming you have already defined label_map and model)\n",
        "prediction = model.predict(test_data_generator)\n",
        "y_pred = np.argmax(prediction, axis=1)\n",
        "\n",
        "# Generate confusion matrix\n",
        "conf_matrix = confusion_matrix(test_data_generator.classes, y_pred)\n",
        "\n",
        "plt.figure(figsize=(8, 8))\n",
        "sns.heatmap(conf_matrix, annot=True, xticklabels=labels, yticklabels=labels)\n",
        "plt.ylabel(\"Actual\")\n",
        "plt.xlabel(\"Prediction\")\n",
        "plt.show()"
      ]
    },
    {
      "cell_type": "code",
      "execution_count": 29,
      "metadata": {
        "colab": {
          "base_uri": "https://localhost:8080/"
        },
        "id": "-54q30xMgsO1",
        "outputId": "d7aecdaf-2a0e-4c31-ff04-83ed243c8309"
      },
      "outputs": [
        {
          "name": "stdout",
          "output_type": "stream",
          "text": [
            "{'busuk': 0, 'matang': 1, 'mentah': 2, 'setengah matang': 3}\n"
          ]
        }
      ],
      "source": [
        "label_map=(train_generator.class_indices)\n",
        "print(label_map)"
      ]
    },
    {
      "cell_type": "code",
      "execution_count": 23,
      "metadata": {
        "colab": {
          "base_uri": "https://localhost:8080/"
        },
        "id": "euIdGsj0gBmz",
        "outputId": "45d579ff-b771-4678-f034-43ed0a64db99"
      },
      "outputs": [
        {
          "name": "stdout",
          "output_type": "stream",
          "text": [
            "              precision    recall  f1-score   support\n",
            "\n",
            "           0       1.00      1.00      1.00        20\n",
            "           1       1.00      1.00      1.00        20\n",
            "           2       0.95      1.00      0.98        20\n",
            "           3       1.00      0.95      0.97        20\n",
            "\n",
            "    accuracy                           0.99        80\n",
            "   macro avg       0.99      0.99      0.99        80\n",
            "weighted avg       0.99      0.99      0.99        80\n",
            "\n"
          ]
        }
      ],
      "source": [
        "from sklearn.metrics import classification_report\n",
        "print(classification_report(test_data_generator.classes,y_pred))"
      ]
    },
    {
      "cell_type": "markdown",
      "metadata": {
        "id": "a0nb28kxWYRD"
      },
      "source": [
        "###Error Analysis"
      ]
    },
    {
      "cell_type": "code",
      "execution_count": 24,
      "metadata": {
        "colab": {
          "base_uri": "https://localhost:8080/"
        },
        "id": "Uqcpf6cji4Dn",
        "outputId": "417bfbf9-859f-4b36-9caf-cbb973ccac71"
      },
      "outputs": [
        {
          "name": "stdout",
          "output_type": "stream",
          "text": [
            "6/6 [==============================] - 1s 238ms/step\n",
            "[[ 3 17  4  4]\n",
            " [15 36 12 17]\n",
            " [ 8 14  6  2]\n",
            " [ 2 13  8  7]]\n",
            "              precision    recall  f1-score   support\n",
            "\n",
            "           0       0.11      0.11      0.11        28\n",
            "           1       0.45      0.45      0.45        80\n",
            "           2       0.20      0.20      0.20        30\n",
            "           3       0.23      0.23      0.23        30\n",
            "\n",
            "    accuracy                           0.31       168\n",
            "   macro avg       0.25      0.25      0.25       168\n",
            "weighted avg       0.31      0.31      0.31       168\n",
            "\n"
          ]
        }
      ],
      "source": [
        "import numpy as np\n",
        "from sklearn.metrics import confusion_matrix, classification_report\n",
        "\n",
        "y_pred = model.predict(validation_generator)\n",
        "y_true = validation_generator.classes\n",
        "\n",
        "confusion_mtx = confusion_matrix(y_true, np.argmax(y_pred, axis=1))\n",
        "print(confusion_mtx)\n",
        "\n",
        "report = classification_report(y_true, np.argmax(y_pred, axis=1))\n",
        "print(report)"
      ]
    },
    {
      "cell_type": "markdown",
      "metadata": {
        "id": "CKi9p04nX6nv"
      },
      "source": [
        "###Test Real Case\n"
      ]
    },
    {
      "cell_type": "code",
      "execution_count": 25,
      "metadata": {
        "colab": {
          "base_uri": "https://localhost:8080/",
          "height": 514
        },
        "id": "XAnUyrN2jboG",
        "outputId": "b4cf3a07-a43c-47d7-b751-21ad71fbdc7d"
      },
      "outputs": [
        {
          "ename": "ModuleNotFoundError",
          "evalue": "No module named 'google.colab'",
          "output_type": "error",
          "traceback": [
            "\u001b[1;31m---------------------------------------------------------------------------\u001b[0m",
            "\u001b[1;31mModuleNotFoundError\u001b[0m                       Traceback (most recent call last)",
            "\u001b[1;32m~\\AppData\\Local\\Temp\\ipykernel_916\\441782769.py\u001b[0m in \u001b[0;36m<module>\u001b[1;34m\u001b[0m\n\u001b[1;32m----> 1\u001b[1;33m \u001b[1;32mfrom\u001b[0m \u001b[0mgoogle\u001b[0m\u001b[1;33m.\u001b[0m\u001b[0mcolab\u001b[0m \u001b[1;32mimport\u001b[0m \u001b[0mfiles\u001b[0m\u001b[1;33m\u001b[0m\u001b[1;33m\u001b[0m\u001b[0m\n\u001b[0m\u001b[0;32m      2\u001b[0m \u001b[1;32mfrom\u001b[0m \u001b[0mkeras\u001b[0m\u001b[1;33m.\u001b[0m\u001b[0mpreprocessing\u001b[0m \u001b[1;32mimport\u001b[0m \u001b[0mimage\u001b[0m\u001b[1;33m\u001b[0m\u001b[1;33m\u001b[0m\u001b[0m\n\u001b[0;32m      3\u001b[0m \u001b[1;32mimport\u001b[0m \u001b[0mnumpy\u001b[0m \u001b[1;32mas\u001b[0m \u001b[0mnp\u001b[0m\u001b[1;33m\u001b[0m\u001b[1;33m\u001b[0m\u001b[0m\n\u001b[0;32m      4\u001b[0m \u001b[1;33m\u001b[0m\u001b[0m\n\u001b[0;32m      5\u001b[0m \u001b[0muploaded\u001b[0m \u001b[1;33m=\u001b[0m \u001b[0mfiles\u001b[0m\u001b[1;33m.\u001b[0m\u001b[0mupload\u001b[0m\u001b[1;33m(\u001b[0m\u001b[1;33m)\u001b[0m\u001b[1;33m\u001b[0m\u001b[1;33m\u001b[0m\u001b[0m\n",
            "\u001b[1;31mModuleNotFoundError\u001b[0m: No module named 'google.colab'"
          ]
        }
      ],
      "source": [
        "from google.colab import files\n",
        "from keras.preprocessing import image\n",
        "import numpy as np\n",
        "\n",
        "uploaded = files.upload()\n",
        "\n",
        "for fn in uploaded.keys():\n",
        "    path = fn\n",
        "    img = image.load_img(path, target_size=(256, 256))\n",
        "    x = image.img_to_array(img)\n",
        "    x = np.expand_dims(x, axis=0)\n",
        "    x = x / 255.0\n",
        "\n",
        "    predictions = model.predict(x)\n",
        "    class_index = np.argmax(predictions, axis=1)[0]\n",
        "\n",
        "    class_label = list(label_map.keys())[list(label_map.values()).index(class_index)]\n",
        "\n",
        "    # Mendapatkan nilai probabilitas tertinggi\n",
        "    confidence = np.max(predictions) * 100  # Mengonversi ke persentase\n",
        "\n",
        "    # Menampilkan gambar\n",
        "    plt.imshow(img)\n",
        "    plt.axis('off')\n",
        "    plt.show()\n",
        "\n",
        "    print(f'Gambar {fn} termasuk ke dalam Tomat kelas {class_index}: {class_label}')\n",
        "    print(f'Confidence: {confidence:.2f}%')"
      ]
    },
    {
      "cell_type": "markdown",
      "metadata": {
        "id": "9lp5vWUPlVl4"
      },
      "source": [
        "###Test Case Output G-Drive"
      ]
    },
    {
      "cell_type": "code",
      "execution_count": null,
      "metadata": {
        "colab": {
          "base_uri": "https://localhost:8080/",
          "height": 194
        },
        "id": "Nf3OfLrIlsPQ",
        "outputId": "b7515e37-be6a-4089-ce3d-c35316d93903"
      },
      "outputs": [
        {
          "data": {
            "text/html": [
              "\n",
              "     <input type=\"file\" id=\"files-eea76680-0a72-496e-82f4-ff7b8d7a49d1\" name=\"files[]\" multiple disabled\n",
              "        style=\"border:none\" />\n",
              "     <output id=\"result-eea76680-0a72-496e-82f4-ff7b8d7a49d1\">\n",
              "      Upload widget is only available when the cell has been executed in the\n",
              "      current browser session. Please rerun this cell to enable.\n",
              "      </output>\n",
              "      <script>// Copyright 2017 Google LLC\n",
              "//\n",
              "// Licensed under the Apache License, Version 2.0 (the \"License\");\n",
              "// you may not use this file except in compliance with the License.\n",
              "// You may obtain a copy of the License at\n",
              "//\n",
              "//      http://www.apache.org/licenses/LICENSE-2.0\n",
              "//\n",
              "// Unless required by applicable law or agreed to in writing, software\n",
              "// distributed under the License is distributed on an \"AS IS\" BASIS,\n",
              "// WITHOUT WARRANTIES OR CONDITIONS OF ANY KIND, either express or implied.\n",
              "// See the License for the specific language governing permissions and\n",
              "// limitations under the License.\n",
              "\n",
              "/**\n",
              " * @fileoverview Helpers for google.colab Python module.\n",
              " */\n",
              "(function(scope) {\n",
              "function span(text, styleAttributes = {}) {\n",
              "  const element = document.createElement('span');\n",
              "  element.textContent = text;\n",
              "  for (const key of Object.keys(styleAttributes)) {\n",
              "    element.style[key] = styleAttributes[key];\n",
              "  }\n",
              "  return element;\n",
              "}\n",
              "\n",
              "// Max number of bytes which will be uploaded at a time.\n",
              "const MAX_PAYLOAD_SIZE = 100 * 1024;\n",
              "\n",
              "function _uploadFiles(inputId, outputId) {\n",
              "  const steps = uploadFilesStep(inputId, outputId);\n",
              "  const outputElement = document.getElementById(outputId);\n",
              "  // Cache steps on the outputElement to make it available for the next call\n",
              "  // to uploadFilesContinue from Python.\n",
              "  outputElement.steps = steps;\n",
              "\n",
              "  return _uploadFilesContinue(outputId);\n",
              "}\n",
              "\n",
              "// This is roughly an async generator (not supported in the browser yet),\n",
              "// where there are multiple asynchronous steps and the Python side is going\n",
              "// to poll for completion of each step.\n",
              "// This uses a Promise to block the python side on completion of each step,\n",
              "// then passes the result of the previous step as the input to the next step.\n",
              "function _uploadFilesContinue(outputId) {\n",
              "  const outputElement = document.getElementById(outputId);\n",
              "  const steps = outputElement.steps;\n",
              "\n",
              "  const next = steps.next(outputElement.lastPromiseValue);\n",
              "  return Promise.resolve(next.value.promise).then((value) => {\n",
              "    // Cache the last promise value to make it available to the next\n",
              "    // step of the generator.\n",
              "    outputElement.lastPromiseValue = value;\n",
              "    return next.value.response;\n",
              "  });\n",
              "}\n",
              "\n",
              "/**\n",
              " * Generator function which is called between each async step of the upload\n",
              " * process.\n",
              " * @param {string} inputId Element ID of the input file picker element.\n",
              " * @param {string} outputId Element ID of the output display.\n",
              " * @return {!Iterable<!Object>} Iterable of next steps.\n",
              " */\n",
              "function* uploadFilesStep(inputId, outputId) {\n",
              "  const inputElement = document.getElementById(inputId);\n",
              "  inputElement.disabled = false;\n",
              "\n",
              "  const outputElement = document.getElementById(outputId);\n",
              "  outputElement.innerHTML = '';\n",
              "\n",
              "  const pickedPromise = new Promise((resolve) => {\n",
              "    inputElement.addEventListener('change', (e) => {\n",
              "      resolve(e.target.files);\n",
              "    });\n",
              "  });\n",
              "\n",
              "  const cancel = document.createElement('button');\n",
              "  inputElement.parentElement.appendChild(cancel);\n",
              "  cancel.textContent = 'Cancel upload';\n",
              "  const cancelPromise = new Promise((resolve) => {\n",
              "    cancel.onclick = () => {\n",
              "      resolve(null);\n",
              "    };\n",
              "  });\n",
              "\n",
              "  // Wait for the user to pick the files.\n",
              "  const files = yield {\n",
              "    promise: Promise.race([pickedPromise, cancelPromise]),\n",
              "    response: {\n",
              "      action: 'starting',\n",
              "    }\n",
              "  };\n",
              "\n",
              "  cancel.remove();\n",
              "\n",
              "  // Disable the input element since further picks are not allowed.\n",
              "  inputElement.disabled = true;\n",
              "\n",
              "  if (!files) {\n",
              "    return {\n",
              "      response: {\n",
              "        action: 'complete',\n",
              "      }\n",
              "    };\n",
              "  }\n",
              "\n",
              "  for (const file of files) {\n",
              "    const li = document.createElement('li');\n",
              "    li.append(span(file.name, {fontWeight: 'bold'}));\n",
              "    li.append(span(\n",
              "        `(${file.type || 'n/a'}) - ${file.size} bytes, ` +\n",
              "        `last modified: ${\n",
              "            file.lastModifiedDate ? file.lastModifiedDate.toLocaleDateString() :\n",
              "                                    'n/a'} - `));\n",
              "    const percent = span('0% done');\n",
              "    li.appendChild(percent);\n",
              "\n",
              "    outputElement.appendChild(li);\n",
              "\n",
              "    const fileDataPromise = new Promise((resolve) => {\n",
              "      const reader = new FileReader();\n",
              "      reader.onload = (e) => {\n",
              "        resolve(e.target.result);\n",
              "      };\n",
              "      reader.readAsArrayBuffer(file);\n",
              "    });\n",
              "    // Wait for the data to be ready.\n",
              "    let fileData = yield {\n",
              "      promise: fileDataPromise,\n",
              "      response: {\n",
              "        action: 'continue',\n",
              "      }\n",
              "    };\n",
              "\n",
              "    // Use a chunked sending to avoid message size limits. See b/62115660.\n",
              "    let position = 0;\n",
              "    do {\n",
              "      const length = Math.min(fileData.byteLength - position, MAX_PAYLOAD_SIZE);\n",
              "      const chunk = new Uint8Array(fileData, position, length);\n",
              "      position += length;\n",
              "\n",
              "      const base64 = btoa(String.fromCharCode.apply(null, chunk));\n",
              "      yield {\n",
              "        response: {\n",
              "          action: 'append',\n",
              "          file: file.name,\n",
              "          data: base64,\n",
              "        },\n",
              "      };\n",
              "\n",
              "      let percentDone = fileData.byteLength === 0 ?\n",
              "          100 :\n",
              "          Math.round((position / fileData.byteLength) * 100);\n",
              "      percent.textContent = `${percentDone}% done`;\n",
              "\n",
              "    } while (position < fileData.byteLength);\n",
              "  }\n",
              "\n",
              "  // All done.\n",
              "  yield {\n",
              "    response: {\n",
              "      action: 'complete',\n",
              "    }\n",
              "  };\n",
              "}\n",
              "\n",
              "scope.google = scope.google || {};\n",
              "scope.google.colab = scope.google.colab || {};\n",
              "scope.google.colab._files = {\n",
              "  _uploadFiles,\n",
              "  _uploadFilesContinue,\n",
              "};\n",
              "})(self);\n",
              "</script> "
            ],
            "text/plain": [
              "<IPython.core.display.HTML object>"
            ]
          },
          "metadata": {},
          "output_type": "display_data"
        },
        {
          "name": "stdout",
          "output_type": "stream",
          "text": [
            "Saving oldVal2.jpg to oldVal2.jpg\n",
            "1/1 [==============================] - 0s 38ms/step\n",
            "{\n",
            "    \"class_index\": 1,\n",
            "    \"class_label\": \"old\",\n",
            "    \"accuracy\": \"99.98%\",\n",
            "    \"elapsed_time\": \"0.0945 seconds\"\n",
            "}\n"
          ]
        }
      ],
      "source": [
        "import time\n",
        "from google.colab import files\n",
        "from keras.preprocessing import image\n",
        "import numpy as np\n",
        "import json\n",
        "\n",
        "uploaded = files.upload()\n",
        "\n",
        "for fn in uploaded.keys():\n",
        "    path = fn\n",
        "    img = image.load_img(path, target_size=(256, 256))\n",
        "    x = image.img_to_array(img)\n",
        "    x = np.expand_dims(x, axis=0)\n",
        "    x = x / 255.0\n",
        "\n",
        "    start_time = time.time()\n",
        "\n",
        "    predictions = model.predict(x)\n",
        "    class_index = np.argmax(predictions, axis=1)[0]\n",
        "    class_label = list(label_map.keys())[list(label_map.values()).index(class_index)]\n",
        "\n",
        "    end_time = time.time()\n",
        "    elapsed_time = end_time - start_time\n",
        "    class_index = int(class_index)\n",
        "\n",
        "    accuracy = np.max(predictions) * 100\n",
        "\n",
        "    data = {\n",
        "        \"class_index\": class_index,\n",
        "        \"class_label\": class_label,\n",
        "        \"accuracy\": f'{accuracy:.2f}%',\n",
        "        \"elapsed_time\": f'{elapsed_time:.4f} seconds'\n",
        "    }\n",
        "\n",
        "    json_data = json.dumps(data, indent=4)\n",
        "    print(json_data)"
      ]
    },
    {
      "cell_type": "code",
      "execution_count": null,
      "metadata": {
        "colab": {
          "base_uri": "https://localhost:8080/"
        },
        "id": "PSzuIHwMvx7U",
        "outputId": "c4f270c1-c121-4f7f-e939-0a8bfa84cf37"
      },
      "outputs": [
        {
          "name": "stdout",
          "output_type": "stream",
          "text": [
            "File /content/drive/My Drive/Colab Notebooks/projects/tomato_project/output/result.json \n",
            " berhasil diunggah ke Google Drive.\n"
          ]
        }
      ],
      "source": [
        "from google.colab import drive\n",
        "import json\n",
        "\n",
        "file_path = \"/content/drive/My Drive/Colab Notebooks/projects/tomato_project/output/result.json\"\n",
        "\n",
        "with open(file_path, 'w') as json_file:\n",
        "    json.dump(data, json_file)\n",
        "\n",
        "print(f'File {file_path} \\n berhasil diunggah ke Google Drive.')"
      ]
    },
    {
      "cell_type": "code",
      "execution_count": null,
      "metadata": {
        "colab": {
          "base_uri": "https://localhost:8080/"
        },
        "id": "XhETczwjx3DO",
        "outputId": "4b0727e5-25c4-4f64-8dd1-8a207d0e82ee"
      },
      "outputs": [
        {
          "name": "stdout",
          "output_type": "stream",
          "text": [
            "1/1 [==============================] - 0s 85ms/step\n",
            "{\n",
            "    \"class_index\": 3,\n",
            "    \"class_label\": \"unripe\",\n",
            "    \"accuracy\": \"98.36%\",\n",
            "    \"elapsed_time\": \"0.0001 seconds\"\n",
            "}\n",
            "File /content/drive/My Drive/Colab Notebooks/projects/tomato_project/output/result.json \n",
            " berhasil diunggah ke Google Drive.\n"
          ]
        }
      ],
      "source": [
        "from keras.preprocessing import image\n",
        "import numpy as np\n",
        "import json\n",
        "\n",
        "file_path = \"/content/drive/MyDrive/Colab Notebooks/projects/tomato_project/input/Feb_17_2024_20_14_29.jpg\"\n",
        "\n",
        "img = image.load_img(file_path, target_size=(256, 256))\n",
        "x = image.img_to_array(img)\n",
        "x = np.expand_dims(x, axis=0)\n",
        "x = x / 255.0\n",
        "\n",
        "predictions = model.predict(x)\n",
        "class_index = np.argmax(predictions, axis=1)[0]\n",
        "class_label = list(label_map.keys())[list(label_map.values()).index(class_index)]\n",
        "\n",
        "start_time = time.time()\n",
        "end_time = time.time()\n",
        "elapsed_time = end_time - start_time\n",
        "\n",
        "accuracy = np.max(predictions) * 100\n",
        "\n",
        "data = {\n",
        "    \"class_index\": int(class_index),\n",
        "    \"class_label\": class_label,\n",
        "    \"accuracy\": f'{accuracy:.2f}%',\n",
        "    \"elapsed_time\": f'{elapsed_time:.4f} seconds'\n",
        "}\n",
        "\n",
        "json_data = json.dumps(data, indent=4)\n",
        "print(json_data)\n",
        "\n",
        "from google.colab import drive\n",
        "import json\n",
        "\n",
        "file_path = \"/content/drive/My Drive/Colab Notebooks/projects/tomato_project/output/result.json\"\n",
        "\n",
        "with open(file_path, 'w') as json_file:\n",
        "    json.dump(data, json_file)\n",
        "\n",
        "print(f'File {file_path} \\n berhasil diunggah ke Google Drive.')\n"
      ]
    },
    {
      "cell_type": "code",
      "execution_count": null,
      "metadata": {
        "id": "OBYG16KGv5SB"
      },
      "outputs": [],
      "source": [
        "from google.colab import drive\n",
        "drive.mount('/content/drive')"
      ]
    }
  ],
  "metadata": {
    "accelerator": "GPU",
    "colab": {
      "gpuType": "T4",
      "provenance": []
    },
    "kernelspec": {
      "display_name": "Python 3",
      "name": "python3"
    },
    "language_info": {
      "codemirror_mode": {
        "name": "ipython",
        "version": 3
      },
      "file_extension": ".py",
      "mimetype": "text/x-python",
      "name": "python",
      "nbconvert_exporter": "python",
      "pygments_lexer": "ipython3",
      "version": "3.7.9"
    }
  },
  "nbformat": 4,
  "nbformat_minor": 0
}
