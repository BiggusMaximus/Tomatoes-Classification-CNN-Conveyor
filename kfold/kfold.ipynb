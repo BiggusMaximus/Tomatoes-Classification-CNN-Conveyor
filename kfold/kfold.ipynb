{
 "cells": [
  {
   "cell_type": "code",
   "execution_count": 2,
   "metadata": {},
   "outputs": [
    {
     "name": "stdout",
     "output_type": "stream",
     "text": [
      "[name: \"/device:CPU:0\"\n",
      "device_type: \"CPU\"\n",
      "memory_limit: 268435456\n",
      "locality {\n",
      "}\n",
      "incarnation: 13047230419634017054\n",
      "xla_global_id: -1\n",
      ", name: \"/device:GPU:0\"\n",
      "device_type: \"GPU\"\n",
      "memory_limit: 9857662976\n",
      "locality {\n",
      "  bus_id: 1\n",
      "  links {\n",
      "  }\n",
      "}\n",
      "incarnation: 15185315770901756970\n",
      "physical_device_desc: \"device: 0, name: NVIDIA GeForce RTX 4080 Laptop GPU, pci bus id: 0000:01:00.0, compute capability: 8.9\"\n",
      "xla_global_id: 416903419\n",
      "]\n"
     ]
    }
   ],
   "source": [
    "import os\n",
    "import numpy as np \n",
    "import pandas as pd \n",
    "import tensorflow as tf\n",
    "from keras.preprocessing.image import ImageDataGenerator\n",
    "import sklearn.model_selection as sklrn\n",
    "from matplotlib import pyplot as plt\n",
    "from tensorflow.python.client import device_lib \n",
    "print(device_lib.list_local_devices())\n"
   ]
  },
  {
   "cell_type": "code",
   "execution_count": 30,
   "metadata": {},
   "outputs": [
    {
     "name": "stdout",
     "output_type": "stream",
     "text": [
      "Training shape: (1927,) (1927,)\n",
      "['..\\\\Dataset-fix\\\\busuk\\\\captured_image_2024-01-07_18-31-27.jpg'\n",
      " '..\\\\Dataset-fix\\\\busuk\\\\captured_image_2024-01-07_18-32-01.jpg'\n",
      " '..\\\\Dataset-fix\\\\busuk\\\\captured_image_2024-01-07_18-32-23.jpg'\n",
      " '..\\\\Dataset-fix\\\\busuk\\\\captured_image_2024-01-07_18-32-26.jpg'\n",
      " '..\\\\Dataset-fix\\\\busuk\\\\captured_image_2024-01-07_18-32-28.jpg'] ['busuk' 'busuk' 'busuk' 'busuk' 'busuk']\n"
     ]
    }
   ],
   "source": [
    "train_dir = '..\\Dataset-fix'\n",
    "\n",
    "train_X = []\n",
    "train_labels = []\n",
    "\n",
    "for label in os.listdir(train_dir):\n",
    "    PATH_TRAIN_LABEL = os.path.join(train_dir, label)\n",
    "    for img in os.listdir(PATH_TRAIN_LABEL):\n",
    "        train_X.append(\n",
    "            os.path.join(PATH_TRAIN_LABEL, img)\n",
    "        )\n",
    "        train_labels.append(label)\n",
    "\n",
    "train_X = np.array(train_X)\n",
    "train_labels = np.array(train_labels)\n",
    "\n",
    "print ('Training shape:', train_X.shape, train_labels.shape) \n",
    "print(train_X[:5], train_labels[:5])"
   ]
  },
  {
   "cell_type": "code",
   "execution_count": 31,
   "metadata": {},
   "outputs": [],
   "source": [
    "model = tf.keras.models.Sequential([\n",
    "    tf.keras.layers.Conv2D(8, (3, 3), activation='relu', input_shape=(128, 128, 3)),\n",
    "    tf.keras.layers.MaxPooling2D(2, 2),\n",
    "    tf.keras.layers.Conv2D(16, (3, 3), activation='relu'),\n",
    "    tf.keras.layers.MaxPooling2D(2, 2),\n",
    "    tf.keras.layers.Conv2D(32, (3, 3), activation='relu'),\n",
    "    tf.keras.layers.MaxPooling2D(2, 2),\n",
    "    tf.keras.layers.Flatten(),\n",
    "    tf.keras.layers.Dense(128, activation='relu'),\n",
    "    tf.keras.layers.Dense(1, activation='sigmoid')\n",
    "])\n",
    "model.compile(optimizer=tf.keras.optimizers.RMSprop(lr=0.001), loss='categorical_crossentropy', metrics=['accuracy'])"
   ]
  },
  {
   "cell_type": "code",
   "execution_count": 32,
   "metadata": {},
   "outputs": [],
   "source": [
    "TRAIN_TEST_SPLIT_AT = 0.9\n",
    "BATCH_SIZE = 100\n",
    "TARGET_SIZE = (128, 128)\n",
    "NO_OF_EPOCHS = 1\n",
    "EXPERIMENT_SIZE = 10000\n",
    "NO_OF_FOLDS = 5"
   ]
  },
  {
   "cell_type": "code",
   "execution_count": 34,
   "metadata": {},
   "outputs": [
    {
     "name": "stdout",
     "output_type": "stream",
     "text": [
      "Starting training and k-fold cross validation ...\n",
      "Folds Set # 0\n",
      "Found 1541 validated image filenames belonging to 4 classes.\n",
      "Found 386 validated image filenames belonging to 4 classes.\n"
     ]
    }
   ],
   "source": [
    "def train_and_cross_validate (model, x_data, y_data, n_folds=NO_OF_FOLDS, epochs=NO_OF_EPOCHS, batch_size=BATCH_SIZE):\n",
    "    # \n",
    "    scores = []\n",
    "    \n",
    "    #  Loading images through generators ...\n",
    "    train_datagen = ImageDataGenerator(rescale=1. / 255.,\n",
    "                                       rotation_range=40,\n",
    "                                       width_shift_range=0.2,\n",
    "                                       height_shift_range=0.2,\n",
    "                                       shear_range=0.2,\n",
    "                                       zoom_range=0.2,\n",
    "                                       horizontal_flip=True)    \n",
    "    validation_datagen = ImageDataGenerator(rescale=1. / 255)\n",
    "          \n",
    "    # prepare cross validation\n",
    "    kfold = sklrn.KFold(n_folds, shuffle=True, random_state=1)\n",
    "    # enumerate splits\n",
    "    FoldsSetNo = 0 \n",
    "    for train_ix, test_ix in kfold.split(x_data):\n",
    "        print ('Folds Set # {0}'.format(FoldsSetNo))\n",
    "        # select rows for train and test\n",
    "        xx_train, yy_train, xx_test, yy_test = \\\n",
    "            x_data[train_ix], y_data[train_ix], x_data[test_ix], y_data[test_ix]\n",
    "\n",
    "        # flow training images in batches for the current folds set\n",
    "        # for training         \n",
    "        train_generator = train_datagen.flow_from_dataframe(\n",
    "            dataframe = pd.DataFrame({'id':xx_train,'label':yy_train}), \n",
    "            directory=train_dir, \n",
    "            x_col='id',\n",
    "            y_col='label',\n",
    "            batch_size=batch_size,\n",
    "            target_size=TARGET_SIZE,\n",
    "            class_mode='categorical',\n",
    "            shuffle = False)\n",
    "        \n",
    "        # and for validation         \n",
    "        validation_generator = validation_datagen.flow_from_dataframe(\n",
    "            dataframe = pd.DataFrame({'id':xx_test,'label':yy_test}), \n",
    "            directory=train_dir, \n",
    "            x_col='id',\n",
    "            y_col='label',\n",
    "            batch_size=batch_size,\n",
    "            target_size=TARGET_SIZE,\n",
    "            class_mode='categorical',\n",
    "            shuffle=False)\n",
    "\n",
    "        # fit the model\n",
    "        history = model.fit(train_generator,\n",
    "                            epochs=epochs,  # The more we train the more our model fits the data\n",
    "                            batch_size=batch_size,  # Smaller batch sizes = samller steps towards convergence\n",
    "                            validation_data=validation_generator,\n",
    "                            verbose=1)\n",
    "        # store scores\n",
    "        scores.append({'acc':np.average(history.history['accuracy']),'val_acc':np.average(history.history['val_accuracy'])})\n",
    "        FoldsSetNo +=1\n",
    "\n",
    "    return scores\n",
    "print('Starting training and k-fold cross validation ...')\n",
    "scores = train_and_cross_validate(model, train_X, train_labels)"
   ]
  },
  {
   "cell_type": "code",
   "execution_count": null,
   "metadata": {},
   "outputs": [],
   "source": [
    "train = []\n",
    "validation = []\n",
    "plt.subplot(1, 1, 1)\n",
    "for s in scores:\n",
    "    train.append(s['acc'])\n",
    "    validation.append(s['val_acc'])\n",
    "print(train)\n",
    "print(validation)\n",
    "plt.plot(train, color='blue', label='train')\n",
    "plt.plot(validation , color='red', label='validation')\n",
    "plt.title('model accuracy')\n",
    "plt.ylabel('accuracy')\n",
    "plt.xlabel('epoch')\n",
    "plt.legend(['train', 'validation'], loc='upper left')\n",
    "plt.show()"
   ]
  },
  {
   "cell_type": "code",
   "execution_count": null,
   "metadata": {},
   "outputs": [],
   "source": []
  }
 ],
 "metadata": {
  "kernelspec": {
   "display_name": "Python 3",
   "language": "python",
   "name": "python3"
  },
  "language_info": {
   "codemirror_mode": {
    "name": "ipython",
    "version": 3
   },
   "file_extension": ".py",
   "mimetype": "text/x-python",
   "name": "python",
   "nbconvert_exporter": "python",
   "pygments_lexer": "ipython3",
   "version": "3.7.9"
  }
 },
 "nbformat": 4,
 "nbformat_minor": 2
}
